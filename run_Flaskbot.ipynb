{
  "nbformat": 4,
  "nbformat_minor": 0,
  "metadata": {
    "colab": {
      "provenance": [],
      "authorship_tag": "ABX9TyO6gp0km1RRdYA5RJF60ghz",
      "include_colab_link": true
    },
    "kernelspec": {
      "name": "python3",
      "display_name": "Python 3"
    },
    "language_info": {
      "name": "python"
    }
  },
  "cells": [
    {
      "cell_type": "markdown",
      "metadata": {
        "id": "view-in-github",
        "colab_type": "text"
      },
      "source": [
        "<a href=\"https://colab.research.google.com/github/gvemulak/TradeBot/blob/main/run_Flaskbot.ipynb\" target=\"_parent\"><img src=\"https://colab.research.google.com/assets/colab-badge.svg\" alt=\"Open In Colab\"/></a>"
      ]
    },
    {
      "cell_type": "code",
      "execution_count": null,
      "metadata": {
        "id": "F0RrB8XnMAOn"
      },
      "outputs": [],
      "source": [
        "from flask import Flask, jsonify\n",
        "import schedule\n",
        "import time\n",
        "import subprocess\n",
        "\n",
        "app = Flask(__name__)\n",
        "# Deploy the Flask app to Vercel using their serverless functions feature. To do this, create a new Vercel project and link it to your GitHub repository containing the Flask app. Then, create a new serverless function called run_bot and link it to the /api/run_bot endpoint.\n",
        "# Set up a cron job to call the /api/run_bot endpoint once a day. You can use a service like cron-job.org to do this.\n",
        "\n",
        "\n",
        "# Define the function to run the AI trading bot\n",
        "def run_bot():\n",
        "    # Use the Google Drive API to mount your Google Drive\n",
        "    # Run the Colab script using the function defined in Step 3\n",
        "    # Your code here\n",
        "\n",
        "# Schedule the bot to run once a day\n",
        "schedule.every().day.at(\"00:00\").do(run_bot)\n",
        "\n",
        "# Define a route to run the bot manually\n",
        "@app.route(\"/run_bot\")\n",
        "def manual_run_bot():\n",
        "    run_bot()\n",
        "    return jsonify({\"status\": \"success\"})\n",
        "\n",
        "if __name__ == \"__main__\":\n",
        "    # Run the Flask app\n",
        "    app.run()\n"
      ]
    }
  ]
}